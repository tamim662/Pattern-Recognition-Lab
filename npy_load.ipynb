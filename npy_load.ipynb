{
 "metadata": {
  "language_info": {
   "codemirror_mode": {
    "name": "ipython",
    "version": 3
   },
   "file_extension": ".py",
   "mimetype": "text/x-python",
   "name": "python",
   "nbconvert_exporter": "python",
   "pygments_lexer": "ipython3",
   "version": 3
  },
  "orig_nbformat": 2,
  "kernelspec": {
   "name": "python_defaultSpec_1595742659236",
   "display_name": "Python 3.6.9 64-bit"
  }
 },
 "nbformat": 4,
 "nbformat_minor": 2,
 "cells": [
  {
   "cell_type": "code",
   "execution_count": 1,
   "metadata": {
    "tags": []
   },
   "outputs": [
    {
     "output_type": "stream",
     "name": "stdout",
     "text": "[[0.45833333 0.375      0.26315789 0.41666667]\n [0.375      0.375      0.57894737 0.25      ]\n [0.08333333 0.66666667 0.52631579 0.29166667]\n ...\n [0.41666667 0.125      0.63157895 0.41666667]\n [0.20833333 0.45833333 0.31578947 0.54166667]\n [0.5        0.25       0.36842105 0.41666667]]\n"
    }
   ],
   "source": [
    "import numpy as np \n",
    "numpy_arr=np.load('Dataset/numpy/A.thaliana1000indep_neg/kmer_1.npy')\n",
    "print(numpy_arr)"
   ]
  },
  {
   "cell_type": "code",
   "execution_count": null,
   "metadata": {},
   "outputs": [],
   "source": []
  }
 ]
}